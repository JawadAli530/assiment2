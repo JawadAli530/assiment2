{
 "cells": [
  {
   "cell_type": "markdown",
   "id": "bce1d7d4-27f2-44f9-8314-a3beab5d8d3f",
   "metadata": {},
   "source": [
    "Q#1"
   ]
  },
  {
   "cell_type": "code",
   "execution_count": 9,
   "id": "5e39e239-18bc-4818-836c-71d9ac249085",
   "metadata": {},
   "outputs": [
    {
     "name": "stdin",
     "output_type": "stream",
     "text": [
      "enter the value of age: 12\n"
     ]
    },
    {
     "name": "stdout",
     "output_type": "stream",
     "text": [
      "child\n"
     ]
    }
   ],
   "source": [
    "age =int(input('enter the value of age:' ))\n",
    "if age >= 0 and age <= 12:\n",
    "    print (\"child\")\n",
    "elif age >= 13 and age <= 19:\n",
    "   print (\"teenager\")\n",
    "elif age >= 20 and age <= 64:\n",
    "   print (\"adult\")\n",
    "else: \n",
    "   print (\"senior\")\n",
    "\n"
   ]
  },
  {
   "cell_type": "markdown",
   "id": "a961dd7c-5627-4077-b997-4ae7ea2ca15d",
   "metadata": {},
   "source": [
    "Q#2"
   ]
  },
  {
   "cell_type": "code",
   "execution_count": 34,
   "id": "fd0253f3-3ab0-4480-80f1-22921f01cd5c",
   "metadata": {},
   "outputs": [
    {
     "name": "stdin",
     "output_type": "stream",
     "text": [
      "enter the customer MS (premium or regular): regular\n",
      "enter the purchase amout: 2000\n"
     ]
    },
    {
     "name": "stdout",
     "output_type": "stream",
     "text": [
      "Eligible for discount\n"
     ]
    }
   ],
   "source": [
    "MS = input(\"enter the customer MS (premium or regular):\")\n",
    "PA =float(input(\"enter the purchase amout:\"))\n",
    "if (MS == \"premium\" and PA >= 1000) or (MS == \"regular\" and PA >= 2000):\n",
    "        print(\"Eligible for discount\")\n",
    "else:\n",
    "        print(\"Not Eligible for discount\")\n"
   ]
  },
  {
   "cell_type": "markdown",
   "id": "b076c083-0e5f-42a9-9e0b-848ec0f59dbc",
   "metadata": {},
   "source": [
    "Q#3"
   ]
  },
  {
   "cell_type": "code",
   "execution_count": 39,
   "id": "86ea6888-c8e8-4a87-8d61-eede07ace5fd",
   "metadata": {},
   "outputs": [
    {
     "name": "stdin",
     "output_type": "stream",
     "text": [
      "enter the person citizenship status citizen or noncitizen citizen\n",
      "enter the specialcity name: \n",
      "enter the age 19\n"
     ]
    },
    {
     "name": "stdout",
     "output_type": "stream",
     "text": [
      "Eligible for vote\n"
     ]
    }
   ],
   "source": [
    "CS =input(\"enter the person citizenship status citizen or noncitizen\")\n",
    "specialcity =input(\"enter the specialcity name:\")\n",
    "age =int(input(\"enter the age\"))\n",
    "if (CS == \"citizen\" and age >= 18):\n",
    "    print(\"Eligible for vote\")\n",
    "elif (specialcity == \"karachi\" and age >= 16):\n",
    "    print(\"Eligible for vote\")\n",
    "else:\n",
    "    print(\"Not Eligible for vote\")"
   ]
  },
  {
   "cell_type": "markdown",
   "id": "d001c70a-ebfa-4f72-9888-f20a74394d63",
   "metadata": {},
   "source": [
    "Q#4"
   ]
  },
  {
   "cell_type": "code",
   "execution_count": 3,
   "id": "bae88822-d69d-4f7c-af5b-215c42340100",
   "metadata": {},
   "outputs": [
    {
     "name": "stdin",
     "output_type": "stream",
     "text": [
      "enter the Empoly performance rate Excellent\n",
      "enter Empolye service: 6\n"
     ]
    },
    {
     "name": "stdout",
     "output_type": "stream",
     "text": [
      "Eligible for bonus\n"
     ]
    }
   ],
   "source": [
    "EPR =input(\"enter the Empoly performance rate\")\n",
    "ESY =int(input(\"enter Empolye service:\"))\n",
    "if (EPR == \"Excellent\" and ESY >= 5):\n",
    "    print(\"Eligible for bonus\")\n",
    "elif (EPR == \"Good\" and ESY >= 10):\n",
    "        print(\"Eligible for bonus\")\n",
    "elif (EPR == \"Satisfactory\" and ESY >= 15):\n",
    "            print(\"Eligible for bonus\")\n",
    "else:\n",
    "    print(\"Not Eligible for bonus\")"
   ]
  },
  {
   "cell_type": "markdown",
   "id": "d6e43d23-b9de-4197-b965-349751e5a78c",
   "metadata": {},
   "source": [
    "Q#5"
   ]
  },
  {
   "cell_type": "code",
   "execution_count": 44,
   "id": "d51ee98c-5323-4ad9-b04e-1ef46423273a",
   "metadata": {},
   "outputs": [
    {
     "name": "stdin",
     "output_type": "stream",
     "text": [
      "enter the text:  I'm learning python programming\n"
     ]
    },
    {
     "name": "stdout",
     "output_type": "stream",
     "text": [
      "All word with underscore: I'm_learning_python_programming\n",
      "Number of underscore: 0\n",
      "position of first underscore: -1\n"
     ]
    }
   ],
   "source": [
    "text =input(\"enter the text: \")\n",
    "print(\"All word with underscore:\",text.replace(\" \",\"_\"))\n",
    "print(\"Number of underscore:\",text.count(\"_\"))\n",
    "print(\"position of first underscore:\",text.find(\"_\"))"
   ]
  },
  {
   "cell_type": "markdown",
   "id": "e31cb6d4-8e34-474a-a5b0-2e0227d5cae6",
   "metadata": {},
   "source": [
    "Q#6"
   ]
  },
  {
   "cell_type": "code",
   "execution_count": 23,
   "id": "3ec8f5ac-4e08-402b-a5f0-0770de985093",
   "metadata": {},
   "outputs": [
    {
     "name": "stdin",
     "output_type": "stream",
     "text": [
      "Enter string: jawad\n"
     ]
    },
    {
     "name": "stdout",
     "output_type": "stream",
     "text": [
      "All characters except the last 3: ja\n",
      "Every second character: jwd\n",
      "String in reverse: dawaj\n"
     ]
    }
   ],
   "source": [
    "string =input(\"Enter string:\")\n",
    "print(\"All characters except the last 3:\",string[:-3])\n",
    "print(\"Every second character:\",string[::2])\n",
    "print(\"String in reverse:\",string[::-1])"
   ]
  },
  {
   "cell_type": "markdown",
   "id": "e1971dd6-16f5-47c0-bad6-ebcf1c15446b",
   "metadata": {},
   "source": [
    "Q7"
   ]
  },
  {
   "cell_type": "code",
   "execution_count": 28,
   "id": "3568e94a-8e0b-4a19-b1d3-dfdd1cdb764d",
   "metadata": {},
   "outputs": [
    {
     "name": "stdin",
     "output_type": "stream",
     "text": [
      "Enter Sentence: \"Hello World,We are learning Python\"\n"
     ]
    },
    {
     "name": "stdout",
     "output_type": "stream",
     "text": [
      "Sentence in reverse: \"nohtyP gninrael era eW,dlroW olleH\"\n"
     ]
    }
   ],
   "source": [
    "Sentence=input(\"Enter Sentence:\")\n",
    "print(\"Sentence in reverse:\",Sentence[::-1])"
   ]
  },
  {
   "cell_type": "markdown",
   "id": "b98ad1b9-3a71-4c1a-b041-2498a412b627",
   "metadata": {},
   "source": [
    "Q8"
   ]
  },
  {
   "cell_type": "code",
   "execution_count": 23,
   "id": "5d779286-3bdd-464e-9959-c2ad0b5fa9c3",
   "metadata": {},
   "outputs": [
    {
     "name": "stdin",
     "output_type": "stream",
     "text": [
      "Enter the product_code \"SKU-12345-XYZ\"\n"
     ]
    },
    {
     "name": "stdout",
     "output_type": "stream",
     "text": [
      "Number: 12345\n"
     ]
    }
   ],
   "source": [
    "product_code =(input(\"Enter the product_code\"))\n",
    "number = extract_number (product_code)\n",
    "print(\"Number:\",number)"
   ]
  },
  {
   "cell_type": "markdown",
   "id": "b12fa6e9-c0dd-4b18-ace7-e152070acc6f",
   "metadata": {},
   "source": [
    "Q#9"
   ]
  },
  {
   "cell_type": "code",
   "execution_count": 3,
   "id": "ae3b764e-5146-4995-aaa0-84bb16c042f8",
   "metadata": {},
   "outputs": [
    {
     "name": "stdin",
     "output_type": "stream",
     "text": [
      "Enter password:  jawad\n"
     ]
    },
    {
     "name": "stdout",
     "output_type": "stream",
     "text": [
      "password is valid\n"
     ]
    }
   ],
   "source": [
    "password=input(\"Enter password: \")\n",
    "if not password:\n",
    "    print(\"password is not valid\")\n",
    "else:\n",
    "    print(\"password is valid\")"
   ]
  },
  {
   "cell_type": "markdown",
   "id": "36ec333e-4277-4ef3-9c8d-b4e05147d634",
   "metadata": {},
   "source": [
    "Q#10"
   ]
  },
  {
   "cell_type": "code",
   "execution_count": 1,
   "id": "b7bdf54c-afd8-4d6c-9df8-94e0dee0e67f",
   "metadata": {},
   "outputs": [
    {
     "name": "stdin",
     "output_type": "stream",
     "text": [
      "enter the text: I love programming in python\n"
     ]
    },
    {
     "ename": "NameError",
     "evalue": "name 'longestword' is not defined",
     "output_type": "error",
     "traceback": [
      "\u001b[1;31m---------------------------------------------------------------------------\u001b[0m",
      "\u001b[1;31mNameError\u001b[0m                                 Traceback (most recent call last)",
      "Cell \u001b[1;32mIn[1], line 2\u001b[0m\n\u001b[0;32m      1\u001b[0m text \u001b[38;5;241m=\u001b[39m\u001b[38;5;28minput\u001b[39m(\u001b[38;5;124m\"\u001b[39m\u001b[38;5;124menter the text:\u001b[39m\u001b[38;5;124m\"\u001b[39m)\n\u001b[1;32m----> 2\u001b[0m longestword\u001b[38;5;241m=\u001b[39m longestword\u001b[38;5;241m.\u001b[39mfind(text)\n\u001b[0;32m      3\u001b[0m \u001b[38;5;28mprint\u001b[39m(\u001b[38;5;124m\"\u001b[39m\u001b[38;5;124mThe longest word is :\u001b[39m\u001b[38;5;124m\"\u001b[39m, longest_word)\n",
      "\u001b[1;31mNameError\u001b[0m: name 'longestword' is not defined"
     ]
    }
   ],
   "source": [
    "text =input(\"enter the text:\")\n",
    "longestword = longestword.find(text)\n",
    "print(\"The longest word is :\", longest_word)"
   ]
  }
 ],
 "metadata": {
  "kernelspec": {
   "display_name": "Python 3 (ipykernel)",
   "language": "python",
   "name": "python3"
  },
  "language_info": {
   "codemirror_mode": {
    "name": "ipython",
    "version": 3
   },
   "file_extension": ".py",
   "mimetype": "text/x-python",
   "name": "python",
   "nbconvert_exporter": "python",
   "pygments_lexer": "ipython3",
   "version": "3.12.7"
  }
 },
 "nbformat": 4,
 "nbformat_minor": 5
}
